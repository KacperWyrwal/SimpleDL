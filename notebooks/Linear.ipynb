{
 "cells": [
  {
   "cell_type": "code",
   "execution_count": 1,
   "id": "77bdbaae",
   "metadata": {},
   "outputs": [],
   "source": [
    "import numpy as np\n",
    "\n",
    "from nn import Module\n",
    "from init import normal\n",
    "from arithmetic import Mean, Sub, Pow, Add, Mul"
   ]
  },
  {
   "cell_type": "code",
   "execution_count": 2,
   "id": "0b004b95",
   "metadata": {},
   "outputs": [],
   "source": [
    "class MSELoss(Module):\n",
    "    \n",
    "    def __init__(self):\n",
    "        self.sub = Sub()\n",
    "        self.pow = Pow()\n",
    "        self.mean = Mean() \n",
    "    \n",
    "    def forward(self, x, x_pred):\n",
    "        y = self.sub(x, x_pred)\n",
    "        y = self.pow(y, 2)\n",
    "        y = self.mean(y)\n",
    "        return y\n",
    "    \n",
    "    def backward(self, lr):\n",
    "        dy = self.mean.backward(lr)\n",
    "        dy = self.pow.backward(dy)\n",
    "        dx, dx_pred = self.sub.backward(dy) \n",
    "        return dx_pred "
   ]
  },
  {
   "cell_type": "code",
   "execution_count": 3,
   "id": "d9551486",
   "metadata": {},
   "outputs": [],
   "source": [
    "class Linear2(Module):\n",
    "    \n",
    "    def __init__(self, in_features: int, out_features: int, bias: bool = True):\n",
    "        self.in_features = in_features\n",
    "        self.out_features = out_features\n",
    "        \n",
    "        # Might want to make this additional dimension abstract \n",
    "        self.weights = normal((out_features, in_features))\n",
    "        self.bias = normal((out_features, 1)) if bias else None\n",
    "        \n",
    "        self.add = Add() \n",
    "        self.mul = Mul() \n",
    "        \n",
    "    def forward(self, x):\n",
    "        y = self.mul(self.weights, x)\n",
    "        y = self.add(self.bias, y)\n",
    "        return y\n",
    "    \n",
    "    def backward(self, dy, lr=0.1):\n",
    "        db, dy = self.add.backward(dy)\n",
    "        dw, dx = self.mul.backward(dy)\n",
    "        \n",
    "        self.bias -= db * lr\n",
    "        self.weights -= dw * lr\n",
    "        return dx \n",
    "        "
   ]
  },
  {
   "cell_type": "code",
   "execution_count": 4,
   "id": "e20bd7b3",
   "metadata": {},
   "outputs": [],
   "source": [
    "class MSE(Module): \n",
    "    \n",
    "    def __init__(self):\n",
    "        self.x = None \n",
    "        self.x_pred = None\n",
    "    \n",
    "    def forward(self, x, x_pred):\n",
    "        self.x = x \n",
    "        self.x_pred = x_pred\n",
    "        return np.mean((x - x_pred)**2, keepdims=True)\n",
    "    \n",
    "    def backward(self, dy=1): \n",
    "        return 2 * (self.x_pred - self.x) / len(self.x) * dy"
   ]
  },
  {
   "cell_type": "code",
   "execution_count": 9,
   "id": "31877b37",
   "metadata": {},
   "outputs": [],
   "source": [
    "i = 2\n",
    "o = 3\n",
    "lr = np.array([0.1])\n",
    "\n",
    "criterion = MSELoss()\n",
    "model = Linear2(i, o, bias=True)\n",
    "y = np.ones((o, 1)) * 0.25\n",
    "x = np.ones((i, 1))"
   ]
  },
  {
   "cell_type": "code",
   "execution_count": 10,
   "id": "5e257b92",
   "metadata": {},
   "outputs": [
    {
     "data": {
      "text/plain": [
       "array([[-2.66225232],\n",
       "       [ 1.24078871],\n",
       "       [-2.00418404]])"
      ]
     },
     "execution_count": 10,
     "metadata": {},
     "output_type": "execute_result"
    }
   ],
   "source": [
    "model(x)"
   ]
  },
  {
   "cell_type": "code",
   "execution_count": 11,
   "id": "6194ca1e",
   "metadata": {},
   "outputs": [],
   "source": [
    "for i in range(100):\n",
    "    y_hat = model(x)\n",
    "    loss = criterion(y, y_hat)\n",
    "#     print(criterion.backward())\n",
    "#     print(f\"{loss=}\", end='\\r')\n",
    "    model.backward(criterion.backward(lr))"
   ]
  },
  {
   "cell_type": "code",
   "execution_count": 12,
   "id": "c23237b9",
   "metadata": {},
   "outputs": [
    {
     "data": {
      "text/plain": [
       "array([[0.25],\n",
       "       [0.25],\n",
       "       [0.25]])"
      ]
     },
     "execution_count": 12,
     "metadata": {},
     "output_type": "execute_result"
    }
   ],
   "source": [
    "model(x)"
   ]
  },
  {
   "cell_type": "code",
   "execution_count": null,
   "id": "2e0e6bdc",
   "metadata": {},
   "outputs": [],
   "source": [
    "np.ones(5).reshape(-1, 1) @ np.arange(3).reshape(-1, 1).T"
   ]
  },
  {
   "cell_type": "code",
   "execution_count": null,
   "id": "53e3529b",
   "metadata": {},
   "outputs": [],
   "source": [
    "class Linear(Module):\n",
    "    \n",
    "    def __init__(self, in_features: int, out_features: int, bias: bool = True):\n",
    "        self.in_features = in_features\n",
    "        self.out_features = out_features\n",
    "        self.weights = normal((out_features, in_features))\n",
    "        self.bias = normal(out_features) if bias else None\n",
    "        self.x = None\n",
    "        \n",
    "    def forward(self, x):\n",
    "        self.x = x\n",
    "        if self.bias is not None: \n",
    "            return self.weights @ x + self.bias \n",
    "        else:\n",
    "            return self.weights @ x\n",
    "    \n",
    "    def backward(self, dy, lr=0.01):\n",
    "        # dy / dx = w\n",
    "        dx = self.weights.T @ dy \n",
    "        \n",
    "        # dz / dw =  x \n",
    "        dw = dy.reshape(-1, 1) * self.x\n",
    "        self.weights -= dw * lr\n",
    "        \n",
    "        if self.bias is not None: \n",
    "            # dy / db = 1 \n",
    "            db = 1 * dy\n",
    "            self.bias -= db * lr \n",
    "            \n",
    "        return dx "
   ]
  },
  {
   "cell_type": "code",
   "execution_count": null,
   "id": "905d1bd6",
   "metadata": {},
   "outputs": [],
   "source": [
    "class MLP(Module):\n",
    "    \n",
    "    def __init__(self, in_features: int, hidden_features: int, out_features: int, bias: bool = True):\n",
    "        self.lin1 = Linear(in_features, hidden_features, bias)\n",
    "        self.act1 = Sigmoid()\n",
    "        self.lin2 = Linear(hidden_features, out_features, bias)\n",
    "    \n",
    "    def forward(self, x):\n",
    "        h = self.lin1(x)\n",
    "        h = self.act1(h)\n",
    "        h = self.lin2(h)\n",
    "        return h \n",
    "    \n",
    "    def backward(self, dy=1):\n",
    "        dy = self.lin2.backward(dy=dy)\n",
    "        dy = self.act1.backward(dy=dy)\n",
    "        dy = self.lin1.backward(dy=dy)\n",
    "        return dy "
   ]
  },
  {
   "cell_type": "code",
   "execution_count": null,
   "id": "e9686d9a",
   "metadata": {},
   "outputs": [],
   "source": [
    "class MSE(Module): \n",
    "    \n",
    "    def __init__(self):\n",
    "        self.x = None \n",
    "        self.x_hat = None\n",
    "    \n",
    "    def forward(self, x, x_hat):\n",
    "        self.x = x \n",
    "        self.x_hat = x_hat\n",
    "        return np.mean((x - x_hat)**2, keepdims=True)\n",
    "    \n",
    "    def backward(self, dy=1): \n",
    "        return 2 * (self.x_hat - self.x) / len(self.x) * dy "
   ]
  },
  {
   "cell_type": "code",
   "execution_count": null,
   "id": "324ddee9",
   "metadata": {},
   "outputs": [],
   "source": [
    "class ReLU(Module):\n",
    "    \n",
    "    def __init__(self):\n",
    "        self.x = None\n",
    "    \n",
    "    def forward(self, x):\n",
    "        self.x = x\n",
    "        return x * (0 < x)\n",
    "    \n",
    "    def backward(self, dy):\n",
    "        return (0 < self.x) * dy"
   ]
  },
  {
   "cell_type": "code",
   "execution_count": null,
   "id": "6ae43779",
   "metadata": {},
   "outputs": [],
   "source": [
    "class Sigmoid(Module):\n",
    "    \n",
    "    def __init__(self):\n",
    "        self.x = None\n",
    "    \n",
    "    def forward(self, x):\n",
    "        self.x = x\n",
    "        return np.exp(x) / (1 + np.exp(x))\n",
    "    \n",
    "    def backward(self, dy): \n",
    "        return (np.exp(self.x) / (1 + np.exp(self.x))**2).T * dy"
   ]
  },
  {
   "cell_type": "code",
   "execution_count": null,
   "id": "f7d43c31",
   "metadata": {},
   "outputs": [],
   "source": [
    "i = 2\n",
    "o = 15\n",
    "h = 10\n",
    "\n",
    "criterion = MSE()\n",
    "model = MLP(i, h, o, nonlin=Sigmoid(), bias=True)\n",
    "y = np.ones(o) * 0.25\n",
    "x = np.ones(i)"
   ]
  },
  {
   "cell_type": "code",
   "execution_count": null,
   "id": "cf5aae4c",
   "metadata": {},
   "outputs": [],
   "source": [
    "for i in range(10000):\n",
    "    y_hat = model(x)\n",
    "    loss = criterion(y, y_hat)\n",
    "#     print(criterion.backward())\n",
    "    model.backward(criterion.backward())"
   ]
  },
  {
   "cell_type": "code",
   "execution_count": null,
   "id": "17173820",
   "metadata": {},
   "outputs": [],
   "source": [
    "model(x)"
   ]
  },
  {
   "cell_type": "code",
   "execution_count": null,
   "id": "675718c5",
   "metadata": {},
   "outputs": [],
   "source": []
  }
 ],
 "metadata": {
  "kernelspec": {
   "display_name": "Python 3 (ipykernel)",
   "language": "python",
   "name": "python3"
  },
  "language_info": {
   "codemirror_mode": {
    "name": "ipython",
    "version": 3
   },
   "file_extension": ".py",
   "mimetype": "text/x-python",
   "name": "python",
   "nbconvert_exporter": "python",
   "pygments_lexer": "ipython3",
   "version": "3.9.13"
  }
 },
 "nbformat": 4,
 "nbformat_minor": 5
}
