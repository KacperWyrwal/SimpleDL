{
 "cells": [
  {
   "cell_type": "code",
   "execution_count": 1,
   "id": "2c575ceb",
   "metadata": {},
   "outputs": [],
   "source": [
    "from nn import Module\n",
    "\n",
    "\n",
    "class MLP(Module):\n",
    "    \n",
    "    def __init__(self, in_features: int, hidden_features: int, out_features: int, bias: bool = True):\n",
    "        self.lin1 = Linear(in_features, hidden_features, bias)\n",
    "        self.act1 = Sigmoid()\n",
    "        self.lin2 = Linear(hidden_features, out_features, bias)\n",
    "    \n",
    "    def forward(self, x):\n",
    "        h = self.lin1(x)\n",
    "        h = self.act1(h)\n",
    "        h = self.lin2(h)\n",
    "        return h \n",
    "    \n",
    "    def backward(self, dy=1):\n",
    "        dy = self.lin2.backward(dy=dy)\n",
    "        dy = self.act1.backward(dy=dy)\n",
    "        dy = self.lin1.backward(dy=dy)\n",
    "        return dy "
   ]
  }
 ],
 "metadata": {
  "kernelspec": {
   "display_name": "Python 3 (ipykernel)",
   "language": "python",
   "name": "python3"
  },
  "language_info": {
   "codemirror_mode": {
    "name": "ipython",
    "version": 3
   },
   "file_extension": ".py",
   "mimetype": "text/x-python",
   "name": "python",
   "nbconvert_exporter": "python",
   "pygments_lexer": "ipython3",
   "version": "3.9.13"
  }
 },
 "nbformat": 4,
 "nbformat_minor": 5
}
