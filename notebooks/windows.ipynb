{
 "cells": [
  {
   "cell_type": "code",
   "execution_count": 4,
   "id": "bc13b83e",
   "metadata": {},
   "outputs": [],
   "source": [
    "import numpy as np"
   ]
  },
  {
   "cell_type": "code",
   "execution_count": 6,
   "id": "70efecd5",
   "metadata": {},
   "outputs": [],
   "source": [
    "class WindowsNd(Module):\n",
    "    \n",
    "    def __init__(self, in_channels, out_channels, kernel_size, *, stride=1, padding=0, dilation=1):\n",
    "        # Parameters\n",
    "        self.in_channels = in_channels\n",
    "        self.out_channels = out_channels \n",
    "        self.kernel_size = kernel_size \n",
    "        self.stride = stride\n",
    "        self.padding = padding\n",
    "        self.dilation = dilation \n",
    "        \n",
    "        # Modules \n",
    "        self.pad = Pad(self.padding)\n",
    "        self.as_strided = None \n",
    "        \n",
    "    def _shape(self, x_shape):\n",
    "        outer_shape = np.subtract(x_shape[:-1], np.subtract(self.kernel_shape, 1) * self.dilation)\n",
    "        outer_shape = np.ceil(np.divide(outer_shape, self.stride)).astype(int)\n",
    "        return *outer_shape, self.out_channels, *self.kernel_shape, self.in_channels    \n",
    "    \n",
    "    def _strides(self, x_strides):\n",
    "        outer_strides = np.multiply(x_strides[:-1], self.stride)\n",
    "        kernel_strides = np.multiply(x_strides[:-1], self.dilation)\n",
    "        return *outer_strides, 0, *kernel_strides, x_strides[-1]\n",
    "    \n",
    "    def forward(self, x):\n",
    "        x = self.pad(x)\n",
    "        self.as_strided = AsStrided(self._shape(x.shape), self._strides(x.strides))\n",
    "        return self.as_strided(x)\n",
    "    \n",
    "    def backward(self, dy):\n",
    "        dy = self.as_strided.backward(dy)\n",
    "        return self.pad.backward(dy)\n",
    "    "
   ]
  },
  {
   "cell_type": "code",
   "execution_count": null,
   "id": "6f92b55d",
   "metadata": {},
   "outputs": [],
   "source": [
    "w = WindowsNd()"
   ]
  },
  {
   "cell_type": "code",
   "execution_count": 2,
   "id": "8b1ae655",
   "metadata": {},
   "outputs": [],
   "source": [
    "from nn import Module"
   ]
  },
  {
   "cell_type": "code",
   "execution_count": 3,
   "id": "ce8fcf87",
   "metadata": {},
   "outputs": [],
   "source": [
    "from utils import unpad\n",
    "\n",
    "class Pad(Module):\n",
    "    \n",
    "    def __init__(self, padding):\n",
    "        self.padding = padding \n",
    "        \n",
    "    def forward(self, x):\n",
    "        return np.pad(x, self.padding)\n",
    "    \n",
    "    def backward(self, dy):\n",
    "        return unpad(dy, self.padding)"
   ]
  },
  {
   "cell_type": "code",
   "execution_count": null,
   "id": "214e57fa",
   "metadata": {},
   "outputs": [],
   "source": [
    "class Windows2d(Module):\n",
    "\n",
    "    def __init__(self, in_channels, out_channels, kernel_shape, *, stride=1,\n",
    "                 padding=((0, 0), (0, 0), (0, 0)), dilation=1):\n",
    "        self.in_channels = in_channels\n",
    "        self.out_channels = out_channels\n",
    "        self.kernel_shape = kernel_shape\n",
    "        self.stride = stride\n",
    "        self.padding = padding\n",
    "        self.dilation = dilation\n",
    "        self.as_strided = None\n",
    "\n",
    "    def compute_shape(self, x_shape):\n",
    "        outer_shape = np.subtract(x_shape[:-1], np.subtract(self.kernel_shape, 1) * self.dilation)\n",
    "        outer_shape = np.ceil(np.divide(outer_shape, self.stride)).astype(int)\n",
    "        return *outer_shape, self.out_channels, *self.kernel_shape, self.in_channels\n",
    "\n",
    "    def compute_strides(self, x_strides):\n",
    "        outer_strides = np.multiply(x_strides[:-1], self.stride)\n",
    "        kernel_strides = np.multiply(x_strides[:-1], self.dilation)\n",
    "        return *outer_strides, 0, *kernel_strides, x_strides[-1]\n",
    "\n",
    "    def forward(self, x):\n",
    "        x = np.pad(x, self.padding)\n",
    "        strides = self.compute_strides(x.strides)\n",
    "        shape = self.compute_shape(x.shape)\n",
    "        self.as_strided = AsStrided(shape, strides, writeable=False)\n",
    "        return self.as_strided(x)\n",
    "\n",
    "    def backward(self, dy):\n",
    "        dy = self.as_strided.backward(dy)\n",
    "        dx = unpad(dy, self.padding)\n",
    "        return dx\n"
   ]
  }
 ],
 "metadata": {
  "kernelspec": {
   "display_name": "Python 3 (ipykernel)",
   "language": "python",
   "name": "python3"
  },
  "language_info": {
   "codemirror_mode": {
    "name": "ipython",
    "version": 3
   },
   "file_extension": ".py",
   "mimetype": "text/x-python",
   "name": "python",
   "nbconvert_exporter": "python",
   "pygments_lexer": "ipython3",
   "version": "3.9.13"
  }
 },
 "nbformat": 4,
 "nbformat_minor": 5
}
