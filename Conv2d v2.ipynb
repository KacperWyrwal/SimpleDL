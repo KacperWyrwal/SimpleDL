{
 "cells": [
  {
   "cell_type": "code",
   "execution_count": 1,
   "id": "b0a7a623",
   "metadata": {},
   "outputs": [],
   "source": [
    "import numpy as np\n",
    "\n",
    "from numpy.lib.stride_tricks import as_strided \n",
    "from nn import Module, Mul, Add, AsStrided, Sum, Windows2d, Flatten, Pad\n",
    "from init import normal\n",
    "from utils import unpad, _as_pairs"
   ]
  },
  {
   "cell_type": "code",
   "execution_count": 11,
   "id": "dfb8b3ae",
   "metadata": {},
   "outputs": [],
   "source": [
    "class Windows(Module):\n",
    "    \n",
    "    def __init__(self, in_channels, out_channels, kernel_shape, *, stride=1, padding=0, dilation=1):\n",
    "        # Parameters\n",
    "        self.in_channels = in_channels\n",
    "        self.out_channels = out_channels \n",
    "        self.kernel_shape = kernel_shape\n",
    "        self.stride = stride\n",
    "        self.padding = padding\n",
    "        self.dilation = dilation \n",
    "        \n",
    "        # Modules \n",
    "        self.pad = Pad(self.padding)\n",
    "        self.as_strided = None \n",
    "        \n",
    "    def _shape(self, x_shape):\n",
    "        outer_shape = np.subtract(x_shape[:-1], np.subtract(self.kernel_shape, 1) * self.dilation)\n",
    "        outer_shape = np.ceil(np.divide(outer_shape, self.stride)).astype(int)\n",
    "        return *outer_shape, self.out_channels, *self.kernel_shape, self.in_channels    \n",
    "    \n",
    "    def _strides(self, x_strides):\n",
    "        outer_strides = np.multiply(x_strides[:-1], self.stride)\n",
    "        kernel_strides = np.multiply(x_strides[:-1], self.dilation)\n",
    "        return *outer_strides, 0, *kernel_strides, x_strides[-1]\n",
    "    \n",
    "    def forward(self, x):\n",
    "        x = self.pad(x)\n",
    "        self.as_strided = AsStrided(self._shape(x.shape), self._strides(x.strides))\n",
    "        return self.as_strided(x)\n",
    "    \n",
    "    def backward(self, dy):\n",
    "        dy = self.as_strided.backward(dy)\n",
    "        return self.pad.backward(dy)\n",
    "    "
   ]
  },
  {
   "cell_type": "code",
   "execution_count": 12,
   "id": "08eb029d",
   "metadata": {},
   "outputs": [],
   "source": [
    "class Conv2d(Module):\n",
    "\n",
    "    def __init__(self, in_channels, out_channels, kernel_shape, *, stride=1,\n",
    "                 padding=0, dilation=1, bias=True):\n",
    "        # Parameters\n",
    "        self.weights = normal((out_channels, *kernel_shape, in_channels))\n",
    "        self.bias = normal((out_channels, 1)) if bias is True else None\n",
    "\n",
    "        # Modules\n",
    "        self.input_to_windows = Windows(out_channels=out_channels, kernel_shape=kernel_shape,\n",
    "                                          in_channels=in_channels, stride=stride, padding=padding,\n",
    "                                          dilation=dilation)\n",
    "        self.weights_to_windows = None\n",
    "        self.bias_to_windows = None\n",
    "        self.mul = Mul()\n",
    "        self.sum = Sum(axis=(-3, -2, -1))\n",
    "        self.add = Add() if bias is True else None\n",
    "\n",
    "    def forward(self, x):\n",
    "        x = self.input_to_windows(x)\n",
    "\n",
    "        self.weights_to_windows = AsStrided(x.shape, (0, 0, *self.weights.strides), writeable=False)\n",
    "        k = self.weights_to_windows(self.weights)\n",
    "\n",
    "        y = self.mul(x, k)\n",
    "        y = self.sum(y)\n",
    "\n",
    "        if self.bias is not None:\n",
    "            self.bias_to_windows = AsStrided(y.shape, (0, 0, self.bias.strides[-1]), writeable=False)\n",
    "            b = self.bias_to_windows(self.bias)\n",
    "            y = self.add(y, b)\n",
    "        return y\n",
    "\n",
    "    def backward(self, dy, lr=0.1):\n",
    "        if self.bias is not None:\n",
    "            dy, dy_b = self.add.backward(dy)\n",
    "\n",
    "            db = self.bias_to_windows.backward(dy_b)\n",
    "            self.bias -= db * lr\n",
    "\n",
    "        dy = self.sum.backward(dy)\n",
    "        dy_x, dy_w = self.mul.backward(dy)\n",
    "\n",
    "        dw = self.weights_to_windows.backward(dy_w)\n",
    "        self.weights -= dw * lr\n",
    "\n",
    "        dx = self.input_to_windows.backward(dy_x)\n",
    "        return dx"
   ]
  },
  {
   "cell_type": "code",
   "execution_count": null,
   "id": "10afded3",
   "metadata": {},
   "outputs": [],
   "source": [
    "from nn import Div, Exp, Sum\n",
    "\n",
    "\n",
    "class Softmax2(Module):\n",
    "    \n",
    "    def __init__(self, axis=None):\n",
    "        self.exp = Exp()\n",
    "        self.sum = Sum(axis=axis)\n",
    "        self.div = Div()\n",
    "    \n",
    "    def forward(self, x):\n",
    "        exp_x = self.exp(x - x.max(axis=self.axis))\n",
    "        return self.div(exp_x, self.sum(exp_x))\n",
    "    \n",
    "    def backward(self, dy):\n",
    "        \"\"\"\n",
    "        THIS IS DEFINITELY WRONG, NEED TO FIX \n",
    "        Also, we should probably just do it without variable axis for now. \n",
    "        \n",
    "        \"\"\"\n",
    "        dy_exp_x, dy_sum_exp_x = self.div.backward(dy)\n",
    "        dx = self.exp.backward(dy_exp_x)\n",
    "        return dx"
   ]
  },
  {
   "cell_type": "code",
   "execution_count": null,
   "id": "19a49a0f",
   "metadata": {},
   "outputs": [],
   "source": [
    "class Softmax(Module):\n",
    "    \n",
    "    def __init__(self, axis=None):\n",
    "        self.exp = Exp()\n",
    "        self.sum = Sum(axis=axis)\n",
    "        self.div = Div()\n",
    "        \n",
    "    def forward(self, x):\n",
    "        exp_x = self.exp(x)\n",
    "        return self.div(exp_x, self.sum(exp_x))\n",
    "    \n",
    "    def backward(self, dy):\n",
    "        dy_exp_x, dy_sum_exp_x = self.div.backward(dy)\n",
    "        dx = self.exp.backward(dy_exp_x)\n",
    "        return dx"
   ]
  },
  {
   "cell_type": "code",
   "execution_count": 13,
   "id": "b523a5b7",
   "metadata": {},
   "outputs": [],
   "source": [
    "c1 = Conv2d(channels1, channels2, kernel_shape, bias=True)\n",
    "c2 = Conv2d(channels2, channels3, kernel_shape, bias=False)\n",
    "f1 = Flatten()\n",
    "\n",
    "y = f1(c2(c1(img)))\n",
    "loss = np.random.normal(size=y.shape)\n",
    "dy = c1.backward(c2.backward(f1.backward(loss)))\n",
    "\n",
    "dy.shape, y.shape"
   ]
  },
  {
   "cell_type": "code",
   "execution_count": null,
   "id": "9523adfb",
   "metadata": {},
   "outputs": [],
   "source": [
    "dy.shape, y.shape"
   ]
  },
  {
   "cell_type": "code",
   "execution_count": null,
   "id": "dbb9e982",
   "metadata": {},
   "outputs": [],
   "source": [
    "model = Conv2d(channels1, channels2, kernel_shape, bias=False)"
   ]
  },
  {
   "cell_type": "code",
   "execution_count": null,
   "id": "b3a68fe0",
   "metadata": {},
   "outputs": [],
   "source": [
    "y = model(img)"
   ]
  },
  {
   "cell_type": "code",
   "execution_count": null,
   "id": "ecade967",
   "metadata": {},
   "outputs": [],
   "source": [
    "dy = np.random.normal(size=y.shape)"
   ]
  },
  {
   "cell_type": "code",
   "execution_count": null,
   "id": "ac4da7a8",
   "metadata": {},
   "outputs": [],
   "source": [
    "model.backward(dy).shape, y.shape"
   ]
  },
  {
   "cell_type": "code",
   "execution_count": 5,
   "id": "ee8f8f50",
   "metadata": {
    "scrolled": true
   },
   "outputs": [],
   "source": [
    "channels1 = 2\n",
    "channels2 = 5\n",
    "channels3 = 1\n",
    "\n",
    "img = np.ones((8, 10, channels1))\n",
    "kernel_shape = (3, 3)"
   ]
  }
 ],
 "metadata": {
  "kernelspec": {
   "display_name": "Python 3 (ipykernel)",
   "language": "python",
   "name": "python3"
  },
  "language_info": {
   "codemirror_mode": {
    "name": "ipython",
    "version": 3
   },
   "file_extension": ".py",
   "mimetype": "text/x-python",
   "name": "python",
   "nbconvert_exporter": "python",
   "pygments_lexer": "ipython3",
   "version": "3.9.13"
  }
 },
 "nbformat": 4,
 "nbformat_minor": 5
}
